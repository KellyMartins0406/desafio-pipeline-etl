{
 "cells": [
  {
   "cell_type": "markdown",
   "id": "25377e51",
   "metadata": {},
   "source": [
    "# Extract"
   ]
  },
  {
   "cell_type": "code",
   "execution_count": 3,
   "id": "b5ae9cd3",
   "metadata": {},
   "outputs": [
    {
     "name": "stdout",
     "output_type": "stream",
     "text": [
      "Requirement already satisfied: pymysql in c:\\users\\mthsd\\anaconda3\\lib\\site-packages (1.1.0)\n"
     ]
    }
   ],
   "source": [
    "!pip install pymysql"
   ]
  },
  {
   "cell_type": "code",
   "execution_count": 6,
   "id": "3fd62748",
   "metadata": {},
   "outputs": [],
   "source": [
    "import pymysql\n",
    "\n",
    "conexao = pymysql.connect(host = \"mariadb-149794-0.cloudclusters.net\", port=19858, user=\"adm\", passwd=\"adm@1234\", database=\"viagens\")"
   ]
  },
  {
   "cell_type": "code",
   "execution_count": 10,
   "id": "82463248",
   "metadata": {},
   "outputs": [
    {
     "name": "stderr",
     "output_type": "stream",
     "text": [
      "C:\\Users\\mthsd\\AppData\\Local\\Temp\\ipykernel_9336\\2395840348.py:3: UserWarning: pandas only supports SQLAlchemy connectable (engine/connection) or database string URI or sqlite3 DBAPI2 connection. Other DBAPI2 objects are not tested. Please consider using SQLAlchemy.\n",
      "  df = pd.read_sql(\"select * from destinos\", conexao)\n"
     ]
    },
    {
     "data": {
      "text/html": [
       "<div>\n",
       "<style scoped>\n",
       "    .dataframe tbody tr th:only-of-type {\n",
       "        vertical-align: middle;\n",
       "    }\n",
       "\n",
       "    .dataframe tbody tr th {\n",
       "        vertical-align: top;\n",
       "    }\n",
       "\n",
       "    .dataframe thead th {\n",
       "        text-align: right;\n",
       "    }\n",
       "</style>\n",
       "<table border=\"1\" class=\"dataframe\">\n",
       "  <thead>\n",
       "    <tr style=\"text-align: right;\">\n",
       "      <th></th>\n",
       "      <th>id</th>\n",
       "      <th>nome</th>\n",
       "      <th>descricao</th>\n",
       "    </tr>\n",
       "  </thead>\n",
       "  <tbody>\n",
       "    <tr>\n",
       "      <th>0</th>\n",
       "      <td>1</td>\n",
       "      <td>Praia das Tartarugas</td>\n",
       "      <td>Uma bela praia com areias brancas e mar crista...</td>\n",
       "    </tr>\n",
       "    <tr>\n",
       "      <th>1</th>\n",
       "      <td>2</td>\n",
       "      <td>Cachoeira do Vale Verde</td>\n",
       "      <td>Uma cachoeira exuberante cercada por natureza</td>\n",
       "    </tr>\n",
       "    <tr>\n",
       "      <th>2</th>\n",
       "      <td>3</td>\n",
       "      <td>Cidade Histórica de Pedra Alta</td>\n",
       "      <td>Uma cidade rica em história e arquitetura</td>\n",
       "    </tr>\n",
       "    <tr>\n",
       "      <th>3</th>\n",
       "      <td>4</td>\n",
       "      <td>Bahia</td>\n",
       "      <td>Venha conhecer as mais bela praias</td>\n",
       "    </tr>\n",
       "  </tbody>\n",
       "</table>\n",
       "</div>"
      ],
      "text/plain": [
       "   id                            nome  \\\n",
       "0   1            Praia das Tartarugas   \n",
       "1   2         Cachoeira do Vale Verde   \n",
       "2   3  Cidade Histórica de Pedra Alta   \n",
       "3   4                           Bahia   \n",
       "\n",
       "                                           descricao  \n",
       "0  Uma bela praia com areias brancas e mar crista...  \n",
       "1      Uma cachoeira exuberante cercada por natureza  \n",
       "2          Uma cidade rica em história e arquitetura  \n",
       "3                 Venha conhecer as mais bela praias  "
      ]
     },
     "execution_count": 10,
     "metadata": {},
     "output_type": "execute_result"
    }
   ],
   "source": [
    "import pandas as pd\n",
    "\n",
    "df = pd.read_sql(\"select * from destinos\", conexao)\n",
    "df.head()"
   ]
  },
  {
   "cell_type": "markdown",
   "id": "03cd1436",
   "metadata": {},
   "source": [
    "# Transform"
   ]
  },
  {
   "cell_type": "code",
   "execution_count": 18,
   "id": "2f9ebad0",
   "metadata": {},
   "outputs": [
    {
     "data": {
      "text/html": [
       "<div>\n",
       "<style scoped>\n",
       "    .dataframe tbody tr th:only-of-type {\n",
       "        vertical-align: middle;\n",
       "    }\n",
       "\n",
       "    .dataframe tbody tr th {\n",
       "        vertical-align: top;\n",
       "    }\n",
       "\n",
       "    .dataframe thead th {\n",
       "        text-align: right;\n",
       "    }\n",
       "</style>\n",
       "<table border=\"1\" class=\"dataframe\">\n",
       "  <thead>\n",
       "    <tr style=\"text-align: right;\">\n",
       "      <th></th>\n",
       "      <th>id</th>\n",
       "      <th>nome</th>\n",
       "      <th>descricao</th>\n",
       "    </tr>\n",
       "  </thead>\n",
       "  <tbody>\n",
       "    <tr>\n",
       "      <th>0</th>\n",
       "      <td>1</td>\n",
       "      <td>Praia das Tartarugas</td>\n",
       "      <td>Uma bela praia com areias brancas e mar crista...</td>\n",
       "    </tr>\n",
       "    <tr>\n",
       "      <th>1</th>\n",
       "      <td>2</td>\n",
       "      <td>Cachoeira do Vale Verde</td>\n",
       "      <td>Uma cachoeira exuberante cercada por natureza</td>\n",
       "    </tr>\n",
       "    <tr>\n",
       "      <th>2</th>\n",
       "      <td>3</td>\n",
       "      <td>Cidade Histórica de Pedra Alta</td>\n",
       "      <td>Uma cidade rica em história e arquitetura</td>\n",
       "    </tr>\n",
       "  </tbody>\n",
       "</table>\n",
       "</div>"
      ],
      "text/plain": [
       "   id                            nome  \\\n",
       "0   1            Praia das Tartarugas   \n",
       "1   2         Cachoeira do Vale Verde   \n",
       "2   3  Cidade Histórica de Pedra Alta   \n",
       "\n",
       "                                           descricao  \n",
       "0  Uma bela praia com areias brancas e mar crista...  \n",
       "1      Uma cachoeira exuberante cercada por natureza  \n",
       "2          Uma cidade rica em história e arquitetura  "
      ]
     },
     "execution_count": 18,
     "metadata": {},
     "output_type": "execute_result"
    }
   ],
   "source": [
    "#Filtrando dataframe para retirada de Bahia \n",
    "df = df[df[\"nome\"] != \"Bahia\"]\n",
    "df.head()"
   ]
  },
  {
   "cell_type": "code",
   "execution_count": 24,
   "id": "f842b291",
   "metadata": {},
   "outputs": [
    {
     "data": {
      "text/html": [
       "<div>\n",
       "<style scoped>\n",
       "    .dataframe tbody tr th:only-of-type {\n",
       "        vertical-align: middle;\n",
       "    }\n",
       "\n",
       "    .dataframe tbody tr th {\n",
       "        vertical-align: top;\n",
       "    }\n",
       "\n",
       "    .dataframe thead th {\n",
       "        text-align: right;\n",
       "    }\n",
       "</style>\n",
       "<table border=\"1\" class=\"dataframe\">\n",
       "  <thead>\n",
       "    <tr style=\"text-align: right;\">\n",
       "      <th></th>\n",
       "      <th>id</th>\n",
       "      <th>nome</th>\n",
       "      <th>descricao</th>\n",
       "      <th>reserva</th>\n",
       "    </tr>\n",
       "  </thead>\n",
       "  <tbody>\n",
       "    <tr>\n",
       "      <th>0</th>\n",
       "      <td>1</td>\n",
       "      <td>Praia das Tartarugas</td>\n",
       "      <td>Uma bela praia com areias brancas e mar crista...</td>\n",
       "      <td>Pousada Praia das Tartarugas</td>\n",
       "    </tr>\n",
       "    <tr>\n",
       "      <th>1</th>\n",
       "      <td>2</td>\n",
       "      <td>Cachoeira do Vale Verde</td>\n",
       "      <td>Uma cachoeira exuberante cercada por natureza</td>\n",
       "      <td>Pousada Cachoeira do Vale Verde</td>\n",
       "    </tr>\n",
       "    <tr>\n",
       "      <th>2</th>\n",
       "      <td>3</td>\n",
       "      <td>Cidade Histórica de Pedra Alta</td>\n",
       "      <td>Uma cidade rica em história e arquitetura</td>\n",
       "      <td>Pousada Cidade Histórica de Pedra Alta</td>\n",
       "    </tr>\n",
       "  </tbody>\n",
       "</table>\n",
       "</div>"
      ],
      "text/plain": [
       "   id                            nome  \\\n",
       "0   1            Praia das Tartarugas   \n",
       "1   2         Cachoeira do Vale Verde   \n",
       "2   3  Cidade Histórica de Pedra Alta   \n",
       "\n",
       "                                           descricao  \\\n",
       "0  Uma bela praia com areias brancas e mar crista...   \n",
       "1      Uma cachoeira exuberante cercada por natureza   \n",
       "2          Uma cidade rica em história e arquitetura   \n",
       "\n",
       "                                  reserva  \n",
       "0            Pousada Praia das Tartarugas  \n",
       "1         Pousada Cachoeira do Vale Verde  \n",
       "2  Pousada Cidade Histórica de Pedra Alta  "
      ]
     },
     "execution_count": 24,
     "metadata": {},
     "output_type": "execute_result"
    }
   ],
   "source": [
    "#Adicionando coluna com link para reserva\n",
    "df[\"reserva\"] = \"Pousada \" + df['nome']\n",
    "df.head()"
   ]
  },
  {
   "cell_type": "markdown",
   "id": "66571862",
   "metadata": {},
   "source": [
    "# Load"
   ]
  },
  {
   "cell_type": "code",
   "execution_count": 25,
   "id": "eb7bb16c",
   "metadata": {},
   "outputs": [],
   "source": [
    "df.to_csv(\"desafio_etl.csv\", index = False)"
   ]
  }
 ],
 "metadata": {
  "kernelspec": {
   "display_name": "Python 3 (ipykernel)",
   "language": "python",
   "name": "python3"
  },
  "language_info": {
   "codemirror_mode": {
    "name": "ipython",
    "version": 3
   },
   "file_extension": ".py",
   "mimetype": "text/x-python",
   "name": "python",
   "nbconvert_exporter": "python",
   "pygments_lexer": "ipython3",
   "version": "3.11.4"
  }
 },
 "nbformat": 4,
 "nbformat_minor": 5
}
